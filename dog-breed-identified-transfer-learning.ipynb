{
 "cells": [
  {
   "cell_type": "code",
   "execution_count": null,
   "metadata": {
    "_cell_guid": "b1076dfc-b9ad-4769-8c92-a6c4dae69d19",
    "_uuid": "8f2839f25d086af736a60e9eeb907d3b93b6e0e5"
   },
   "outputs": [],
   "source": [
    "# This Python 3 environment comes with many helpful analytics libraries installed\n",
    "# It is defined by the kaggle/python Docker image: https://github.com/kaggle/docker-python\n",
    "# For example, here's several helpful packages to load\n",
    "\n",
    "import numpy as np # linear algebra\n",
    "import pandas as pd # data processing, CSV file I/O (e.g. pd.read_csv)\n",
    "\n",
    "# Input data files are available in the read-only \"../input/\" directory\n",
    "# For example, running this (by clicking run or pressing Shift+Enter) will list all files under the input directory\n",
    "\n",
    "import os\n",
    "for dirname, _, filenames in os.walk('/kaggle/input'):\n",
    "    for filename in filenames:\n",
    "        print(os.path.join(dirname, filename))\n",
    "\n",
    "# You can write up to 5GB to the current directory (/kaggle/working/) that gets preserved as output when you create a version using \"Save & Run All\" \n",
    "# You can also write temporary files to /kaggle/temp/, but they won't be saved outside of the current session"
   ]
  },
  {
   "cell_type": "code",
   "execution_count": 1,
   "metadata": {
    "_cell_guid": "79c7e3d0-c299-4dcb-8224-4455121ee9b0",
    "_uuid": "d629ff2d2480ee46fbb7e2d37f6b5fab8052498a"
   },
   "outputs": [],
   "source": [
    "import numpy as np \n",
    "import pandas as pd \n",
    "import os, cv2, random, time, shutil, csv\n",
    "import tensorflow as tf\n",
    "import seaborn as sns\n",
    "import matplotlib.pyplot as plt\n",
    "import matplotlib.image as mpimg\n",
    "from tqdm import tqdm\n",
    "np.random.seed(42)\n",
    "%matplotlib inline \n",
    "\n",
    "import keras\n",
    "from keras.preprocessing.image import ImageDataGenerator\n",
    "from keras.models import Model\n",
    "from keras.layers import BatchNormalization, Dense, GlobalAveragePooling2D, Lambda, Dropout, InputLayer, Input\n",
    "from keras.utils import to_categorical\n",
    "from tensorflow.keras.preprocessing.image import load_img"
   ]
  },
  {
   "cell_type": "code",
   "execution_count": 2,
   "metadata": {},
   "outputs": [
    {
     "name": "stdout",
     "output_type": "stream",
     "text": [
      "Data samples size:  10222\n",
      "Test samples size:  10357\n"
     ]
    }
   ],
   "source": [
    "#Data Paths\n",
    "train_dir = '../input/dog-breed-identification/train'\n",
    "test_dir = '../input/dog-breed-identification/test'\n",
    "#Count/Print train and test samples.\n",
    "data_size = len(os.listdir(train_dir))\n",
    "test_size = len(os.listdir(test_dir))\n",
    "print('Data samples size: ', data_size)\n",
    "print('Test samples size: ', test_size)"
   ]
  },
  {
   "cell_type": "code",
   "execution_count": 3,
   "metadata": {},
   "outputs": [
    {
     "data": {
      "text/html": [
       "<div>\n",
       "<style scoped>\n",
       "    .dataframe tbody tr th:only-of-type {\n",
       "        vertical-align: middle;\n",
       "    }\n",
       "\n",
       "    .dataframe tbody tr th {\n",
       "        vertical-align: top;\n",
       "    }\n",
       "\n",
       "    .dataframe thead th {\n",
       "        text-align: right;\n",
       "    }\n",
       "</style>\n",
       "<table border=\"1\" class=\"dataframe\">\n",
       "  <thead>\n",
       "    <tr style=\"text-align: right;\">\n",
       "      <th></th>\n",
       "      <th>id</th>\n",
       "      <th>breed</th>\n",
       "    </tr>\n",
       "  </thead>\n",
       "  <tbody>\n",
       "    <tr>\n",
       "      <th>0</th>\n",
       "      <td>000bec180eb18c7604dcecc8fe0dba07</td>\n",
       "      <td>boston_bull</td>\n",
       "    </tr>\n",
       "    <tr>\n",
       "      <th>1</th>\n",
       "      <td>001513dfcb2ffafc82cccf4d8bbaba97</td>\n",
       "      <td>dingo</td>\n",
       "    </tr>\n",
       "    <tr>\n",
       "      <th>2</th>\n",
       "      <td>001cdf01b096e06d78e9e5112d419397</td>\n",
       "      <td>pekinese</td>\n",
       "    </tr>\n",
       "    <tr>\n",
       "      <th>3</th>\n",
       "      <td>00214f311d5d2247d5dfe4fe24b2303d</td>\n",
       "      <td>bluetick</td>\n",
       "    </tr>\n",
       "    <tr>\n",
       "      <th>4</th>\n",
       "      <td>0021f9ceb3235effd7fcde7f7538ed62</td>\n",
       "      <td>golden_retriever</td>\n",
       "    </tr>\n",
       "  </tbody>\n",
       "</table>\n",
       "</div>"
      ],
      "text/plain": [
       "                                 id             breed\n",
       "0  000bec180eb18c7604dcecc8fe0dba07       boston_bull\n",
       "1  001513dfcb2ffafc82cccf4d8bbaba97             dingo\n",
       "2  001cdf01b096e06d78e9e5112d419397          pekinese\n",
       "3  00214f311d5d2247d5dfe4fe24b2303d          bluetick\n",
       "4  0021f9ceb3235effd7fcde7f7538ed62  golden_retriever"
      ]
     },
     "execution_count": 3,
     "metadata": {},
     "output_type": "execute_result"
    }
   ],
   "source": [
    "labels_dataframe = pd.read_csv('../input/dog-breed-identification/labels.csv')\n",
    "\n",
    "\n",
    "sample_df = pd.read_csv('../input/dog-breed-identification/sample_submission.csv')\n",
    "\n",
    "labels_dataframe.head(5)"
   ]
  },
  {
   "cell_type": "code",
   "execution_count": 4,
   "metadata": {},
   "outputs": [
    {
     "name": "stdout",
     "output_type": "stream",
     "text": [
      "120\n"
     ]
    },
    {
     "data": {
      "text/plain": [
       "['affenpinscher',\n",
       " 'afghan_hound',\n",
       " 'african_hunting_dog',\n",
       " 'airedale',\n",
       " 'american_staffordshire_terrier',\n",
       " 'appenzeller',\n",
       " 'australian_terrier',\n",
       " 'basenji',\n",
       " 'basset',\n",
       " 'beagle']"
      ]
     },
     "execution_count": 4,
     "metadata": {},
     "output_type": "execute_result"
    }
   ],
   "source": [
    "dog_breeds = sorted(list(set(labels_dataframe['breed'])))\n",
    "n_classes = len(dog_breeds)\n",
    "print(n_classes)\n",
    "dog_breeds[:10]"
   ]
  },
  {
   "cell_type": "code",
   "execution_count": 5,
   "metadata": {},
   "outputs": [],
   "source": [
    "class_to_num = dict(zip(dog_breeds, range(n_classes)))"
   ]
  },
  {
   "cell_type": "code",
   "execution_count": 6,
   "metadata": {},
   "outputs": [],
   "source": [
    "def images_to_array(data_dir, labels_dataframe, img_size = (299,299,3)):\n",
    "    \n",
    "    images_names = labels_dataframe['id']\n",
    "    images_labels = labels_dataframe['breed']\n",
    "    data_size = len(images_names)\n",
    "    #initailize output arrays.\n",
    "    X = np.zeros([data_size, img_size[0], img_size[1], img_size[2]], dtype=np.uint8)\n",
    "    y = np.zeros([data_size,1], dtype=np.uint8)\n",
    "    #read data and lables.\n",
    "    for i in tqdm(range(data_size)):\n",
    "        image_name = images_names[i]\n",
    "        img_dir = os.path.join(data_dir, image_name+'.jpg')\n",
    "        img_pixels = load_img(img_dir, target_size=img_size)\n",
    "        X[i] = img_pixels\n",
    "        \n",
    "        image_breed = images_labels[i]\n",
    "        y[i] = class_to_num[image_breed]\n",
    "    \n",
    "    #One hot encoder\n",
    "    y = to_categorical(y)\n",
    "    #shuffle    \n",
    "    ind = np.random.permutation(data_size)\n",
    "    X = X[ind]\n",
    "    y = y[ind]\n",
    "    print('Ouptut Data Size: ', X.shape)\n",
    "    print('Ouptut Label Size: ', y.shape)\n",
    "    return X, y"
   ]
  },
  {
   "cell_type": "code",
   "execution_count": 7,
   "metadata": {},
   "outputs": [
    {
     "name": "stderr",
     "output_type": "stream",
     "text": [
      "100%|██████████| 10222/10222 [00:47<00:00, 217.26it/s]\n"
     ]
    },
    {
     "name": "stdout",
     "output_type": "stream",
     "text": [
      "Ouptut Data Size:  (10222, 299, 299, 3)\n",
      "Ouptut Label Size:  (10222, 120)\n"
     ]
    }
   ],
   "source": [
    "img_size = (299,299,3)\n",
    "X, y = images_to_array(train_dir, labels_dataframe, img_size)"
   ]
  },
  {
   "cell_type": "code",
   "execution_count": 8,
   "metadata": {},
   "outputs": [],
   "source": [
    "def get_features(model_name, data_preprocessor, input_size, data):\n",
    "    input_layer = Input(input_size)\n",
    "    preprocessor = Lambda(data_preprocessor)(input_layer)\n",
    "    base_model = model_name(weights='imagenet', include_top=False,\n",
    "                            input_shape=input_size)(preprocessor)\n",
    "    avg = GlobalAveragePooling2D()(base_model)\n",
    "    feature_extractor = Model(inputs = input_layer, outputs = avg)\n",
    "    #Extract feature.\n",
    "    feature_maps = feature_extractor.predict(data, batch_size=64, verbose=1)\n",
    "    print('Feature maps shape: ', feature_maps.shape)\n",
    "    return feature_maps"
   ]
  },
  {
   "cell_type": "code",
   "execution_count": 9,
   "metadata": {},
   "outputs": [
    {
     "name": "stdout",
     "output_type": "stream",
     "text": [
      "160/160 [==============================] - 52s 323ms/step\n",
      "Feature maps shape:  (10222, 1536)\n"
     ]
    }
   ],
   "source": [
    "from keras.applications.inception_resnet_v2 import InceptionResNetV2, preprocess_input\n",
    "inc_resnet_preprocessor = preprocess_input\n",
    "inc_resnet_features = get_features(InceptionResNetV2,\n",
    "                                   inc_resnet_preprocessor,\n",
    "                                   img_size, X)"
   ]
  },
  {
   "cell_type": "code",
   "execution_count": 10,
   "metadata": {},
   "outputs": [
    {
     "name": "stdout",
     "output_type": "stream",
     "text": [
      "Final feature maps shape (10222, 1536)\n"
     ]
    }
   ],
   "source": [
    "final_features = np.concatenate([inc_resnet_features,], axis=-1)\n",
    "print('Final feature maps shape', final_features.shape)"
   ]
  },
  {
   "cell_type": "code",
   "execution_count": 12,
   "metadata": {},
   "outputs": [
    {
     "name": "stdout",
     "output_type": "stream",
     "text": [
      "Epoch 1/60\n",
      "72/72 [==============================] - 0s 6ms/step - loss: 2.3803 - accuracy: 0.5948 - val_loss: 0.5892 - val_accuracy: 0.8974\n",
      "Epoch 2/60\n",
      "72/72 [==============================] - 0s 3ms/step - loss: 0.5081 - accuracy: 0.8882 - val_loss: 0.3461 - val_accuracy: 0.9091\n",
      "Epoch 3/60\n",
      "72/72 [==============================] - 0s 3ms/step - loss: 0.3614 - accuracy: 0.9048 - val_loss: 0.3015 - val_accuracy: 0.9140\n",
      "Epoch 4/60\n",
      "72/72 [==============================] - 0s 3ms/step - loss: 0.3131 - accuracy: 0.9097 - val_loss: 0.2886 - val_accuracy: 0.9101\n",
      "Epoch 5/60\n",
      "72/72 [==============================] - 0s 3ms/step - loss: 0.2887 - accuracy: 0.9172 - val_loss: 0.2906 - val_accuracy: 0.9101\n",
      "Epoch 6/60\n",
      "72/72 [==============================] - 0s 3ms/step - loss: 0.2666 - accuracy: 0.9154 - val_loss: 0.2873 - val_accuracy: 0.9169\n",
      "Epoch 7/60\n",
      "72/72 [==============================] - 0s 3ms/step - loss: 0.2552 - accuracy: 0.9198 - val_loss: 0.2888 - val_accuracy: 0.9120\n",
      "Epoch 8/60\n",
      "72/72 [==============================] - 0s 3ms/step - loss: 0.2432 - accuracy: 0.9218 - val_loss: 0.2932 - val_accuracy: 0.9091\n",
      "Epoch 9/60\n",
      "72/72 [==============================] - 0s 3ms/step - loss: 0.2378 - accuracy: 0.9263 - val_loss: 0.2914 - val_accuracy: 0.9101\n",
      "Epoch 10/60\n",
      "72/72 [==============================] - 0s 3ms/step - loss: 0.2311 - accuracy: 0.9266 - val_loss: 0.2923 - val_accuracy: 0.9081\n",
      "Epoch 11/60\n",
      "72/72 [==============================] - 0s 3ms/step - loss: 0.2189 - accuracy: 0.9290 - val_loss: 0.2935 - val_accuracy: 0.9091\n",
      "Epoch 12/60\n",
      "72/72 [==============================] - 0s 3ms/step - loss: 0.2128 - accuracy: 0.9289 - val_loss: 0.2899 - val_accuracy: 0.9101\n",
      "Epoch 13/60\n",
      "72/72 [==============================] - 0s 3ms/step - loss: 0.2078 - accuracy: 0.9346 - val_loss: 0.2947 - val_accuracy: 0.9120\n",
      "Epoch 14/60\n",
      "72/72 [==============================] - 0s 3ms/step - loss: 0.2035 - accuracy: 0.9323 - val_loss: 0.2893 - val_accuracy: 0.9130\n",
      "Epoch 15/60\n",
      "72/72 [==============================] - 0s 3ms/step - loss: 0.1951 - accuracy: 0.9356 - val_loss: 0.3026 - val_accuracy: 0.9091\n",
      "Epoch 16/60\n",
      "72/72 [==============================] - 0s 3ms/step - loss: 0.1868 - accuracy: 0.9391 - val_loss: 0.3013 - val_accuracy: 0.9120\n",
      "Epoch 17/60\n",
      "72/72 [==============================] - 0s 3ms/step - loss: 0.1886 - accuracy: 0.9368 - val_loss: 0.3027 - val_accuracy: 0.9110\n",
      "Epoch 18/60\n",
      "72/72 [==============================] - 0s 3ms/step - loss: 0.1813 - accuracy: 0.9400 - val_loss: 0.3034 - val_accuracy: 0.9052\n",
      "Epoch 19/60\n",
      "72/72 [==============================] - 0s 3ms/step - loss: 0.1766 - accuracy: 0.9411 - val_loss: 0.3043 - val_accuracy: 0.9120\n",
      "Epoch 20/60\n",
      "72/72 [==============================] - 0s 3ms/step - loss: 0.1739 - accuracy: 0.9422 - val_loss: 0.3022 - val_accuracy: 0.9140\n",
      "Epoch 21/60\n",
      "72/72 [==============================] - 0s 3ms/step - loss: 0.1710 - accuracy: 0.9414 - val_loss: 0.3090 - val_accuracy: 0.9110\n",
      "Epoch 22/60\n",
      "72/72 [==============================] - 0s 3ms/step - loss: 0.1715 - accuracy: 0.9413 - val_loss: 0.3186 - val_accuracy: 0.9091\n",
      "Epoch 23/60\n",
      "72/72 [==============================] - 0s 3ms/step - loss: 0.1633 - accuracy: 0.9450 - val_loss: 0.3063 - val_accuracy: 0.9130\n",
      "Epoch 24/60\n",
      "72/72 [==============================] - 0s 3ms/step - loss: 0.1642 - accuracy: 0.9453 - val_loss: 0.3098 - val_accuracy: 0.9140\n",
      "Epoch 25/60\n",
      "72/72 [==============================] - 0s 3ms/step - loss: 0.1581 - accuracy: 0.9451 - val_loss: 0.3181 - val_accuracy: 0.9081\n",
      "Epoch 26/60\n",
      "72/72 [==============================] - 0s 3ms/step - loss: 0.1587 - accuracy: 0.9440 - val_loss: 0.3108 - val_accuracy: 0.9071\n",
      "Epoch 27/60\n",
      "72/72 [==============================] - 0s 3ms/step - loss: 0.1579 - accuracy: 0.9483 - val_loss: 0.3129 - val_accuracy: 0.9140\n",
      "Epoch 28/60\n",
      "72/72 [==============================] - 0s 3ms/step - loss: 0.1558 - accuracy: 0.9488 - val_loss: 0.3184 - val_accuracy: 0.9140\n",
      "Epoch 29/60\n",
      "72/72 [==============================] - 0s 3ms/step - loss: 0.1488 - accuracy: 0.9506 - val_loss: 0.3189 - val_accuracy: 0.9150\n",
      "Epoch 30/60\n",
      "72/72 [==============================] - 0s 5ms/step - loss: 0.1535 - accuracy: 0.9478 - val_loss: 0.3165 - val_accuracy: 0.9101\n",
      "Epoch 31/60\n",
      "72/72 [==============================] - 0s 4ms/step - loss: 0.1483 - accuracy: 0.9487 - val_loss: 0.3208 - val_accuracy: 0.9081\n",
      "Epoch 32/60\n",
      "72/72 [==============================] - 0s 4ms/step - loss: 0.1511 - accuracy: 0.9484 - val_loss: 0.3209 - val_accuracy: 0.9071\n",
      "Epoch 33/60\n",
      "72/72 [==============================] - 0s 3ms/step - loss: 0.1492 - accuracy: 0.9481 - val_loss: 0.3256 - val_accuracy: 0.9081\n",
      "Epoch 34/60\n",
      "72/72 [==============================] - 0s 3ms/step - loss: 0.1472 - accuracy: 0.9498 - val_loss: 0.3243 - val_accuracy: 0.9091\n",
      "Epoch 35/60\n",
      "72/72 [==============================] - 0s 3ms/step - loss: 0.1419 - accuracy: 0.9524 - val_loss: 0.3252 - val_accuracy: 0.9091\n",
      "Epoch 36/60\n",
      "72/72 [==============================] - 0s 3ms/step - loss: 0.1381 - accuracy: 0.9514 - val_loss: 0.3306 - val_accuracy: 0.9130\n",
      "Epoch 37/60\n",
      "72/72 [==============================] - 0s 3ms/step - loss: 0.1381 - accuracy: 0.9515 - val_loss: 0.3255 - val_accuracy: 0.9130\n",
      "Epoch 38/60\n",
      "72/72 [==============================] - 0s 3ms/step - loss: 0.1378 - accuracy: 0.9531 - val_loss: 0.3304 - val_accuracy: 0.9110\n",
      "Epoch 39/60\n",
      "72/72 [==============================] - 0s 3ms/step - loss: 0.1344 - accuracy: 0.9533 - val_loss: 0.3284 - val_accuracy: 0.9110\n",
      "Epoch 40/60\n",
      "72/72 [==============================] - 0s 3ms/step - loss: 0.1351 - accuracy: 0.9529 - val_loss: 0.3395 - val_accuracy: 0.9071\n",
      "Epoch 41/60\n",
      "72/72 [==============================] - 0s 3ms/step - loss: 0.1350 - accuracy: 0.9512 - val_loss: 0.3311 - val_accuracy: 0.9110\n",
      "Epoch 42/60\n",
      "72/72 [==============================] - 0s 3ms/step - loss: 0.1324 - accuracy: 0.9518 - val_loss: 0.3349 - val_accuracy: 0.9071\n",
      "Epoch 43/60\n",
      "72/72 [==============================] - 0s 3ms/step - loss: 0.1263 - accuracy: 0.9550 - val_loss: 0.3476 - val_accuracy: 0.9120\n",
      "Epoch 44/60\n",
      "72/72 [==============================] - 0s 3ms/step - loss: 0.1293 - accuracy: 0.9558 - val_loss: 0.3380 - val_accuracy: 0.9110\n",
      "Epoch 45/60\n",
      "72/72 [==============================] - 0s 3ms/step - loss: 0.1272 - accuracy: 0.9535 - val_loss: 0.3365 - val_accuracy: 0.9130\n",
      "Epoch 46/60\n",
      "72/72 [==============================] - 0s 3ms/step - loss: 0.1266 - accuracy: 0.9545 - val_loss: 0.3404 - val_accuracy: 0.9091\n",
      "Epoch 47/60\n",
      "72/72 [==============================] - 0s 3ms/step - loss: 0.1281 - accuracy: 0.9550 - val_loss: 0.3360 - val_accuracy: 0.9110\n",
      "Epoch 48/60\n",
      "72/72 [==============================] - 0s 3ms/step - loss: 0.1262 - accuracy: 0.9554 - val_loss: 0.3388 - val_accuracy: 0.9081\n",
      "Epoch 49/60\n",
      "72/72 [==============================] - 0s 3ms/step - loss: 0.1214 - accuracy: 0.9565 - val_loss: 0.3466 - val_accuracy: 0.9120\n",
      "Epoch 50/60\n",
      "72/72 [==============================] - 0s 3ms/step - loss: 0.1219 - accuracy: 0.9568 - val_loss: 0.3390 - val_accuracy: 0.9101\n",
      "Epoch 51/60\n",
      "72/72 [==============================] - 0s 3ms/step - loss: 0.1197 - accuracy: 0.9591 - val_loss: 0.3461 - val_accuracy: 0.9110\n",
      "Epoch 52/60\n",
      "72/72 [==============================] - 0s 3ms/step - loss: 0.1245 - accuracy: 0.9548 - val_loss: 0.3459 - val_accuracy: 0.9071\n",
      "Epoch 53/60\n",
      "72/72 [==============================] - 0s 3ms/step - loss: 0.1213 - accuracy: 0.9543 - val_loss: 0.3508 - val_accuracy: 0.9110\n",
      "Epoch 54/60\n",
      "72/72 [==============================] - 0s 3ms/step - loss: 0.1196 - accuracy: 0.9570 - val_loss: 0.3566 - val_accuracy: 0.9071\n",
      "Epoch 55/60\n",
      "72/72 [==============================] - 0s 3ms/step - loss: 0.1164 - accuracy: 0.9584 - val_loss: 0.3552 - val_accuracy: 0.9081\n",
      "Epoch 56/60\n",
      "72/72 [==============================] - 0s 3ms/step - loss: 0.1185 - accuracy: 0.9572 - val_loss: 0.3551 - val_accuracy: 0.9101\n",
      "Epoch 57/60\n",
      "72/72 [==============================] - 0s 3ms/step - loss: 0.1154 - accuracy: 0.9581 - val_loss: 0.3585 - val_accuracy: 0.9071\n",
      "Epoch 58/60\n",
      "72/72 [==============================] - 0s 3ms/step - loss: 0.1212 - accuracy: 0.9572 - val_loss: 0.3525 - val_accuracy: 0.9101\n",
      "Epoch 59/60\n",
      "72/72 [==============================] - 0s 3ms/step - loss: 0.1177 - accuracy: 0.9583 - val_loss: 0.3625 - val_accuracy: 0.9101\n",
      "Epoch 60/60\n",
      "72/72 [==============================] - 0s 3ms/step - loss: 0.1127 - accuracy: 0.9596 - val_loss: 0.3631 - val_accuracy: 0.9110\n"
     ]
    }
   ],
   "source": [
    "dnn = keras.models.Sequential([\n",
    "    InputLayer(final_features.shape[1:]),\n",
    "    Dropout(0.7),\n",
    "    Dense(n_classes, activation='softmax')\n",
    "])\n",
    "\n",
    "dnn.compile(optimizer='adam',\n",
    "              loss='categorical_crossentropy',\n",
    "              metrics=['accuracy'])\n",
    "\n",
    "#Train simple DNN on extracted features.\n",
    "h = dnn.fit(final_features, y,\n",
    "            batch_size=128,\n",
    "            epochs=60,\n",
    "            validation_split=0.1)"
   ]
  },
  {
   "cell_type": "code",
   "execution_count": null,
   "metadata": {},
   "outputs": [],
   "source": []
  }
 ],
 "metadata": {
  "kernelspec": {
   "display_name": "Python 3",
   "language": "python",
   "name": "python3"
  },
  "language_info": {
   "codemirror_mode": {
    "name": "ipython",
    "version": 3
   },
   "file_extension": ".py",
   "mimetype": "text/x-python",
   "name": "python",
   "nbconvert_exporter": "python",
   "pygments_lexer": "ipython3",
   "version": "3.6.12"
  }
 },
 "nbformat": 4,
 "nbformat_minor": 4
}
